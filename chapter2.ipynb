{
 "cells": [
  {
   "cell_type": "code",
   "id": "initial_id",
   "metadata": {
    "collapsed": true,
    "ExecuteTime": {
     "end_time": "2024-10-27T14:43:16.384956Z",
     "start_time": "2024-10-27T14:43:16.376889Z"
    }
   },
   "source": "print('Hello, World!')",
   "outputs": [
    {
     "name": "stdout",
     "output_type": "stream",
     "text": [
      "Hello, World!\n"
     ]
    }
   ],
   "execution_count": 1
  },
  {
   "metadata": {
    "ExecuteTime": {
     "end_time": "2024-10-27T15:04:08.434337Z",
     "start_time": "2024-10-27T15:02:20.543075Z"
    }
   },
   "cell_type": "code",
   "source": [
    "import numpy as np\n",
    "import matplotlib.pyplot as plt\n",
    "from keras.datasets import cifar10\n",
    "from keras.utils import to_categorical\n",
    "from keras.models import Sequential\n",
    "from keras.layers import Dense, Dropout, Flatten, Activation\n",
    "from keras.layers import Conv2D, MaxPooling2D\n",
    "from keras.optimizers import Adam\n",
    "\n",
    "# Load data\n",
    "(x_train, y_train), (x_test, y_test) = cifar10.load_data()\n",
    "batch_size = 32\n",
    "epochs = 30\n",
    "n_class = 10\n",
    "\n",
    "# Preprocess data\n",
    "t_train = to_categorical(y_train, n_class)\n",
    "t_test = to_categorical(y_test, n_class)\n",
    "x_train = x_train / 255.0\n",
    "x_test = x_test / 255.0\n",
    "\n",
    "# Model architecture\n",
    "model = Sequential()\n",
    "model.add(Conv2D(32, (3, 3), padding='same', input_shape=x_train.shape[1:]))\n",
    "model.add(Activation('relu'))\n",
    "model.add(MaxPooling2D(pool_size=(3, 3)))\n",
    "model.add(Conv2D(64, (3, 3), padding='same'))\n",
    "model.add(Activation('relu'))\n",
    "model.add(Conv2D(64, (3, 3)))\n",
    "model.add(Activation('relu'))\n",
    "model.add(MaxPooling2D(pool_size=(2, 2)))\n",
    "\n",
    "model.add(Flatten())\n",
    "model.add(Dense(256))\n",
    "model.add(Activation('relu'))\n",
    "model.add(Dropout(0.5))\n",
    "model.add(Dense(n_class))\n",
    "model.add(Activation('softmax'))\n",
    "\n",
    "# Compile model\n",
    "model.compile(optimizer=Adam(), loss='categorical_crossentropy', metrics=['accuracy'])\n",
    "\n",
    "# Train model\n",
    "model.fit(x_train, t_train, epochs=epochs, batch_size=batch_size, validation_data=(x_test, t_test))\n",
    "\n",
    "# Evaluate model\n",
    "score = model.evaluate(x_test, t_test, verbose=0)\n",
    "print(f'Test loss: {score[0]}')\n",
    "print(f'Test accuracy: {score[1]}')\n"
   ],
   "id": "a1811330eabc9d3a",
   "outputs": [
    {
     "name": "stdout",
     "output_type": "stream",
     "text": [
      "Epoch 1/30\n",
      "1563/1563 [==============================] - 4s 2ms/step - loss: 1.5438 - accuracy: 0.4363 - val_loss: 1.2327 - val_accuracy: 0.5468\n",
      "Epoch 2/30\n",
      "1563/1563 [==============================] - 3s 2ms/step - loss: 1.1704 - accuracy: 0.5857 - val_loss: 1.0234 - val_accuracy: 0.6371\n",
      "Epoch 3/30\n",
      "1563/1563 [==============================] - 3s 2ms/step - loss: 1.0173 - accuracy: 0.6447 - val_loss: 0.8992 - val_accuracy: 0.6873\n",
      "Epoch 4/30\n",
      "1563/1563 [==============================] - 3s 2ms/step - loss: 0.9116 - accuracy: 0.6814 - val_loss: 0.8839 - val_accuracy: 0.6863\n",
      "Epoch 5/30\n",
      "1563/1563 [==============================] - 3s 2ms/step - loss: 0.8363 - accuracy: 0.7066 - val_loss: 0.8064 - val_accuracy: 0.7183\n",
      "Epoch 6/30\n",
      "1563/1563 [==============================] - 3s 2ms/step - loss: 0.7741 - accuracy: 0.7318 - val_loss: 0.8528 - val_accuracy: 0.7080\n",
      "Epoch 7/30\n",
      "1563/1563 [==============================] - 3s 2ms/step - loss: 0.7262 - accuracy: 0.7476 - val_loss: 0.7842 - val_accuracy: 0.7320\n",
      "Epoch 8/30\n",
      "1563/1563 [==============================] - 3s 2ms/step - loss: 0.6896 - accuracy: 0.7577 - val_loss: 0.7814 - val_accuracy: 0.7307\n",
      "Epoch 9/30\n",
      "1563/1563 [==============================] - 3s 2ms/step - loss: 0.6424 - accuracy: 0.7736 - val_loss: 0.7693 - val_accuracy: 0.7383\n",
      "Epoch 10/30\n",
      "1563/1563 [==============================] - 3s 2ms/step - loss: 0.6091 - accuracy: 0.7868 - val_loss: 0.7823 - val_accuracy: 0.7394\n",
      "Epoch 11/30\n",
      "1563/1563 [==============================] - 3s 2ms/step - loss: 0.5766 - accuracy: 0.7969 - val_loss: 0.7798 - val_accuracy: 0.7457\n",
      "Epoch 12/30\n",
      "1563/1563 [==============================] - 4s 2ms/step - loss: 0.5451 - accuracy: 0.8065 - val_loss: 0.8015 - val_accuracy: 0.7426\n",
      "Epoch 13/30\n",
      "1563/1563 [==============================] - 4s 2ms/step - loss: 0.5165 - accuracy: 0.8153 - val_loss: 0.7782 - val_accuracy: 0.7509\n",
      "Epoch 14/30\n",
      "1563/1563 [==============================] - 4s 2ms/step - loss: 0.4943 - accuracy: 0.8243 - val_loss: 0.8197 - val_accuracy: 0.7421\n",
      "Epoch 15/30\n",
      "1563/1563 [==============================] - 4s 2ms/step - loss: 0.4705 - accuracy: 0.8325 - val_loss: 0.8089 - val_accuracy: 0.7528\n",
      "Epoch 16/30\n",
      "1563/1563 [==============================] - 4s 2ms/step - loss: 0.4509 - accuracy: 0.8388 - val_loss: 0.8570 - val_accuracy: 0.7432\n",
      "Epoch 17/30\n",
      "1563/1563 [==============================] - 3s 2ms/step - loss: 0.4336 - accuracy: 0.8450 - val_loss: 0.8823 - val_accuracy: 0.7435\n",
      "Epoch 18/30\n",
      "1563/1563 [==============================] - 4s 2ms/step - loss: 0.4179 - accuracy: 0.8500 - val_loss: 0.8795 - val_accuracy: 0.7410\n",
      "Epoch 19/30\n",
      "1563/1563 [==============================] - 4s 2ms/step - loss: 0.3943 - accuracy: 0.8582 - val_loss: 0.9127 - val_accuracy: 0.7413\n",
      "Epoch 20/30\n",
      "1563/1563 [==============================] - 4s 2ms/step - loss: 0.3843 - accuracy: 0.8600 - val_loss: 0.9306 - val_accuracy: 0.7483\n",
      "Epoch 21/30\n",
      "1563/1563 [==============================] - 4s 2ms/step - loss: 0.3739 - accuracy: 0.8657 - val_loss: 0.9224 - val_accuracy: 0.7482\n",
      "Epoch 22/30\n",
      "1563/1563 [==============================] - 4s 2ms/step - loss: 0.3564 - accuracy: 0.8697 - val_loss: 0.9405 - val_accuracy: 0.7484\n",
      "Epoch 23/30\n",
      "1563/1563 [==============================] - 3s 2ms/step - loss: 0.3469 - accuracy: 0.8731 - val_loss: 0.9543 - val_accuracy: 0.7495\n",
      "Epoch 24/30\n",
      "1563/1563 [==============================] - 4s 2ms/step - loss: 0.3460 - accuracy: 0.8761 - val_loss: 1.0167 - val_accuracy: 0.7437\n",
      "Epoch 25/30\n",
      "1563/1563 [==============================] - 4s 2ms/step - loss: 0.3372 - accuracy: 0.8787 - val_loss: 0.9797 - val_accuracy: 0.7479\n",
      "Epoch 26/30\n",
      "1563/1563 [==============================] - 4s 2ms/step - loss: 0.3247 - accuracy: 0.8819 - val_loss: 1.0092 - val_accuracy: 0.7476\n",
      "Epoch 27/30\n",
      "1563/1563 [==============================] - 4s 2ms/step - loss: 0.3066 - accuracy: 0.8878 - val_loss: 1.1002 - val_accuracy: 0.7443\n",
      "Epoch 28/30\n",
      "1563/1563 [==============================] - 4s 2ms/step - loss: 0.3108 - accuracy: 0.8869 - val_loss: 1.0580 - val_accuracy: 0.7420\n",
      "Epoch 29/30\n",
      "1563/1563 [==============================] - 4s 2ms/step - loss: 0.3058 - accuracy: 0.8891 - val_loss: 1.0883 - val_accuracy: 0.7494\n",
      "Epoch 30/30\n",
      "1563/1563 [==============================] - 4s 2ms/step - loss: 0.2961 - accuracy: 0.8932 - val_loss: 1.1455 - val_accuracy: 0.7349\n",
      "Test loss: 1.1454910039901733\n",
      "Test accuracy: 0.7348999977111816\n"
     ]
    }
   ],
   "execution_count": 4
  }
 ],
 "metadata": {
  "kernelspec": {
   "display_name": "Python 3",
   "language": "python",
   "name": "python3"
  },
  "language_info": {
   "codemirror_mode": {
    "name": "ipython",
    "version": 2
   },
   "file_extension": ".py",
   "mimetype": "text/x-python",
   "name": "python",
   "nbconvert_exporter": "python",
   "pygments_lexer": "ipython2",
   "version": "2.7.6"
  }
 },
 "nbformat": 4,
 "nbformat_minor": 5
}
