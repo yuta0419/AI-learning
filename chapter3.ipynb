{
 "cells": [
  {
   "cell_type": "code",
   "execution_count": 1,
   "id": "initial_id",
   "metadata": {
    "ExecuteTime": {
     "end_time": "2024-10-30T04:53:22.548326Z",
     "start_time": "2024-10-30T04:53:22.538327Z"
    },
    "collapsed": true
   },
   "outputs": [],
   "source": [
    "a = 123"
   ]
  },
  {
   "cell_type": "code",
   "execution_count": 2,
   "id": "9190596edc3a1487",
   "metadata": {
    "ExecuteTime": {
     "end_time": "2024-10-30T04:53:22.563563Z",
     "start_time": "2024-10-30T04:53:22.556557Z"
    }
   },
   "outputs": [],
   "source": [
    "a = 123\n",
    "b = 123.456\n",
    "c = \"Hello World\"\n",
    "d = True\n",
    "e = [1,2,3]"
   ]
  },
  {
   "cell_type": "code",
   "execution_count": 3,
   "id": "caa4d85c0e014099",
   "metadata": {
    "ExecuteTime": {
     "end_time": "2024-10-30T04:53:22.579073Z",
     "start_time": "2024-10-30T04:53:22.570562Z"
    }
   },
   "outputs": [
    {
     "name": "stdout",
     "output_type": "stream",
     "text": [
      "1\n"
     ]
    }
   ],
   "source": [
    "a = True\n",
    "b = False\n",
    "print(a+b)"
   ]
  },
  {
   "cell_type": "code",
   "execution_count": 4,
   "id": "154e0d5edee39835",
   "metadata": {
    "ExecuteTime": {
     "end_time": "2024-10-30T04:53:22.843890Z",
     "start_time": "2024-10-30T04:53:22.829876Z"
    }
   },
   "outputs": [
    {
     "data": {
      "text/plain": [
       "1.5e-06"
      ]
     },
     "execution_count": 4,
     "metadata": {},
     "output_type": "execute_result"
    }
   ],
   "source": [
    "1.5e6\n",
    "1.5e-6"
   ]
  },
  {
   "cell_type": "code",
   "execution_count": 5,
   "id": "691b086bbf58afc0",
   "metadata": {
    "ExecuteTime": {
     "end_time": "2024-10-30T04:53:22.983371Z",
     "start_time": "2024-10-30T04:53:22.970863Z"
    }
   },
   "outputs": [
    {
     "name": "stdout",
     "output_type": "stream",
     "text": [
      "8\n",
      "True\n",
      "True\n"
     ]
    }
   ],
   "source": [
    "a = 3; b = 5\n",
    "\n",
    "c = a + b\n",
    "print(c)\n",
    "\n",
    "d = a < b\n",
    "print(d)\n",
    "\n",
    "e = 3 < 4 and 4 < 5\n",
    "print(e)"
   ]
  },
  {
   "cell_type": "code",
   "execution_count": 6,
   "id": "fe7b16a8641b03f1",
   "metadata": {},
   "outputs": [
    {
     "name": "stdout",
     "output_type": "stream",
     "text": [
      "4\n",
      "[1, 2, 3, 4, 5, 6]\n",
      "[1, 2, 99, 4, 5, 6]\n"
     ]
    }
   ],
   "source": [
    "a = [1,2,3,4,5]\n",
    "\n",
    "b = a[3]\n",
    "print(b)\n",
    "\n",
    "a.append(6)\n",
    "print(a)\n",
    "\n",
    "a[2] = 99\n",
    "print(a)"
   ]
  },
  {
   "cell_type": "code",
   "execution_count": 7,
   "id": "5ca59666",
   "metadata": {},
   "outputs": [
    {
     "name": "stdout",
     "output_type": "stream",
     "text": [
      "3\n"
     ]
    }
   ],
   "source": [
    "a = (1,2,3,4,5)\n",
    "b = a[2]\n",
    "print(b)"
   ]
  },
  {
   "cell_type": "code",
   "execution_count": 8,
   "id": "f5759024",
   "metadata": {},
   "outputs": [
    {
     "data": {
      "text/plain": [
       "(2,)"
      ]
     },
     "execution_count": 8,
     "metadata": {},
     "output_type": "execute_result"
    }
   ],
   "source": [
    "(2,)"
   ]
  },
  {
   "cell_type": "code",
   "execution_count": 9,
   "id": "f4c74a65",
   "metadata": {},
   "outputs": [
    {
     "name": "stdout",
     "output_type": "stream",
     "text": [
      "1 2 3\n",
      "4 5 6\n"
     ]
    }
   ],
   "source": [
    "a = [1,2,3]\n",
    "a1, a2, a3 = a\n",
    "print(a1, a2, a3)\n",
    "\n",
    "b = (4,5,6)\n",
    "b1, b2, b3 = b\n",
    "print(b1,b2,b3)"
   ]
  },
  {
   "cell_type": "code",
   "execution_count": 13,
   "id": "69473ccd",
   "metadata": {},
   "outputs": [
    {
     "name": "stdout",
     "output_type": "stream",
     "text": [
      "1\n",
      "{'Artificial': 1, 'Inteligence': 7}\n",
      "{'Artificial': 1, 'Inteligence': 7, 'ML': 3}\n"
     ]
    }
   ],
   "source": [
    "a = {\"Artificial\":1, \"Inteligence\":2}\n",
    "print(a[\"Artificial\"])\n",
    "\n",
    "a[\"Inteligence\"] = 7\n",
    "print(a)\n",
    "\n",
    "a[\"ML\"] = 3\n",
    "print(a)"
   ]
  },
  {
   "cell_type": "code",
   "execution_count": 14,
   "id": "64b24d5a",
   "metadata": {},
   "outputs": [
    {
     "name": "stdout",
     "output_type": "stream",
     "text": [
      "[1, 1, 2, 3, 4, 4, 5, 5, 5]\n",
      "{1, 2, 3, 4, 5}\n",
      "{1, 2, 3, 4, 5, 6}\n",
      "{1, 2, 4, 5, 6}\n"
     ]
    }
   ],
   "source": [
    "a = [1,1,2,3,4,4,5,5,5]\n",
    "print(a)\n",
    "\n",
    "b = set(a)\n",
    "print(b)\n",
    "\n",
    "b.add(6)\n",
    "print(b)\n",
    "\n",
    "b.remove(3)\n",
    "print(b)\n"
   ]
  }
 ],
 "metadata": {
  "kernelspec": {
   "display_name": "datascience1",
   "language": "python",
   "name": "python3"
  },
  "language_info": {
   "codemirror_mode": {
    "name": "ipython",
    "version": 3
   },
   "file_extension": ".py",
   "mimetype": "text/x-python",
   "name": "python",
   "nbconvert_exporter": "python",
   "pygments_lexer": "ipython3",
   "version": "3.12.5"
  }
 },
 "nbformat": 4,
 "nbformat_minor": 5
}
