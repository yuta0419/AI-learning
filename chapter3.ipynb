{
 "cells": [
  {
   "cell_type": "code",
   "id": "initial_id",
   "metadata": {
    "collapsed": true,
    "ExecuteTime": {
     "end_time": "2024-10-27T14:58:03.416880Z",
     "start_time": "2024-10-27T14:58:03.406983Z"
    }
   },
   "source": "a = 123",
   "outputs": [],
   "execution_count": 1
  },
  {
   "metadata": {
    "ExecuteTime": {
     "end_time": "2024-10-27T14:59:34.054973Z",
     "start_time": "2024-10-27T14:59:34.039975Z"
    }
   },
   "cell_type": "code",
   "source": [
    "a = 123\n",
    "b = 123.456\n",
    "c = \"Hello World\"\n",
    "d = True\n",
    "e = [1,2,3]"
   ],
   "id": "9190596edc3a1487",
   "outputs": [],
   "execution_count": 2
  },
  {
   "metadata": {
    "ExecuteTime": {
     "end_time": "2024-10-27T15:00:05.831018Z",
     "start_time": "2024-10-27T15:00:05.813013Z"
    }
   },
   "cell_type": "code",
   "source": [
    "a = True\n",
    "b = False\n",
    "print(a+b)"
   ],
   "id": "caa4d85c0e014099",
   "outputs": [
    {
     "name": "stdout",
     "output_type": "stream",
     "text": [
      "1\n"
     ]
    }
   ],
   "execution_count": 3
  },
  {
   "metadata": {
    "ExecuteTime": {
     "end_time": "2024-10-27T15:00:36.823056Z",
     "start_time": "2024-10-27T15:00:36.805057Z"
    }
   },
   "cell_type": "code",
   "source": [
    "1.5e6\n",
    "1.5e-6"
   ],
   "id": "154e0d5edee39835",
   "outputs": [
    {
     "data": {
      "text/plain": [
       "1.5e-06"
      ]
     },
     "execution_count": 4,
     "metadata": {},
     "output_type": "execute_result"
    }
   ],
   "execution_count": 4
  },
  {
   "metadata": {
    "ExecuteTime": {
     "end_time": "2024-10-27T15:01:53.628120Z",
     "start_time": "2024-10-27T15:01:53.614594Z"
    }
   },
   "cell_type": "code",
   "source": [
    "a = 3; b = 5\n",
    "\n",
    "c = a + b\n",
    "print(c)\n",
    "\n",
    "d = a < b\n",
    "print(d)\n",
    "\n",
    "e = 3 < 4 and 4 < 5\n",
    "print(e)"
   ],
   "id": "691b086bbf58afc0",
   "outputs": [
    {
     "name": "stdout",
     "output_type": "stream",
     "text": [
      "8\n",
      "True\n",
      "True\n"
     ]
    }
   ],
   "execution_count": 5
  },
  {
   "metadata": {},
   "cell_type": "code",
   "outputs": [],
   "execution_count": null,
   "source": "",
   "id": "fe7b16a8641b03f1"
  }
 ],
 "metadata": {
  "kernelspec": {
   "display_name": "Python 3",
   "language": "python",
   "name": "python3"
  },
  "language_info": {
   "codemirror_mode": {
    "name": "ipython",
    "version": 2
   },
   "file_extension": ".py",
   "mimetype": "text/x-python",
   "name": "python",
   "nbconvert_exporter": "python",
   "pygments_lexer": "ipython2",
   "version": "2.7.6"
  }
 },
 "nbformat": 4,
 "nbformat_minor": 5
}
